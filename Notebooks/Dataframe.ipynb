{
 "cells": [
  {
   "cell_type": "code",
   "execution_count": 4,
   "id": "af3b1e08",
   "metadata": {},
   "outputs": [],
   "source": [
    "import pandas as pd"
   ]
  },
  {
   "cell_type": "code",
   "execution_count": 5,
   "id": "15962ab4",
   "metadata": {},
   "outputs": [
    {
     "name": "stdout",
     "output_type": "stream",
     "text": [
      "/Users/danielaarias/Ironhack/Taller_API/Notebooks\r\n"
     ]
    }
   ],
   "source": [
    "!pwd"
   ]
  },
  {
   "cell_type": "code",
   "execution_count": 6,
   "id": "48fcfeb9",
   "metadata": {},
   "outputs": [],
   "source": [
    "data_a = pd.read_excel(\"../Data/Athletes.xlsx\")"
   ]
  },
  {
   "cell_type": "code",
   "execution_count": 7,
   "id": "3a5d7143",
   "metadata": {},
   "outputs": [
    {
     "data": {
      "text/html": [
       "<div>\n",
       "<style scoped>\n",
       "    .dataframe tbody tr th:only-of-type {\n",
       "        vertical-align: middle;\n",
       "    }\n",
       "\n",
       "    .dataframe tbody tr th {\n",
       "        vertical-align: top;\n",
       "    }\n",
       "\n",
       "    .dataframe thead th {\n",
       "        text-align: right;\n",
       "    }\n",
       "</style>\n",
       "<table border=\"1\" class=\"dataframe\">\n",
       "  <thead>\n",
       "    <tr style=\"text-align: right;\">\n",
       "      <th></th>\n",
       "      <th>Name</th>\n",
       "      <th>NOC</th>\n",
       "      <th>Discipline</th>\n",
       "    </tr>\n",
       "  </thead>\n",
       "  <tbody>\n",
       "    <tr>\n",
       "      <th>0</th>\n",
       "      <td>AALERUD Katrine</td>\n",
       "      <td>Norway</td>\n",
       "      <td>Cycling Road</td>\n",
       "    </tr>\n",
       "    <tr>\n",
       "      <th>1</th>\n",
       "      <td>ABAD Nestor</td>\n",
       "      <td>Spain</td>\n",
       "      <td>Artistic Gymnastics</td>\n",
       "    </tr>\n",
       "    <tr>\n",
       "      <th>2</th>\n",
       "      <td>ABAGNALE Giovanni</td>\n",
       "      <td>Italy</td>\n",
       "      <td>Rowing</td>\n",
       "    </tr>\n",
       "    <tr>\n",
       "      <th>3</th>\n",
       "      <td>ABALDE Alberto</td>\n",
       "      <td>Spain</td>\n",
       "      <td>Basketball</td>\n",
       "    </tr>\n",
       "    <tr>\n",
       "      <th>4</th>\n",
       "      <td>ABALDE Tamara</td>\n",
       "      <td>Spain</td>\n",
       "      <td>Basketball</td>\n",
       "    </tr>\n",
       "  </tbody>\n",
       "</table>\n",
       "</div>"
      ],
      "text/plain": [
       "                Name     NOC           Discipline\n",
       "0    AALERUD Katrine  Norway         Cycling Road\n",
       "1        ABAD Nestor   Spain  Artistic Gymnastics\n",
       "2  ABAGNALE Giovanni   Italy               Rowing\n",
       "3     ABALDE Alberto   Spain           Basketball\n",
       "4      ABALDE Tamara   Spain           Basketball"
      ]
     },
     "execution_count": 7,
     "metadata": {},
     "output_type": "execute_result"
    }
   ],
   "source": [
    "data_a.head()"
   ]
  },
  {
   "cell_type": "code",
   "execution_count": null,
   "id": "7201d988",
   "metadata": {},
   "outputs": [],
   "source": [
    "data_a.shape"
   ]
  },
  {
   "cell_type": "code",
   "execution_count": null,
   "id": "cfbc9f3e",
   "metadata": {},
   "outputs": [],
   "source": [
    "data_a.NOC.unique()"
   ]
  },
  {
   "cell_type": "code",
   "execution_count": null,
   "id": "d5fbbea5",
   "metadata": {},
   "outputs": [],
   "source": [
    "NOC_Counts = data_a.NOC.value_counts()"
   ]
  },
  {
   "cell_type": "code",
   "execution_count": null,
   "id": "5e29248e",
   "metadata": {},
   "outputs": [],
   "source": [
    "data_a.head()"
   ]
  },
  {
   "cell_type": "code",
   "execution_count": null,
   "id": "f25cf172",
   "metadata": {},
   "outputs": [],
   "source": [
    "type(NOC_Counts)"
   ]
  },
  {
   "cell_type": "code",
   "execution_count": null,
   "id": "bcd2cd3d",
   "metadata": {},
   "outputs": [],
   "source": [
    "dict_noc = {}"
   ]
  },
  {
   "cell_type": "code",
   "execution_count": null,
   "id": "6287ce84",
   "metadata": {},
   "outputs": [],
   "source": [
    "def orden(x):\n",
    "    dict_noc = {}\n",
    "    for key,values in dict_noc.items():\n",
    "        if values < 10:\n",
    "            return key\n",
    "        else:\n",
    "            'Others'"
   ]
  },
  {
   "cell_type": "code",
   "execution_count": null,
   "id": "919ad533",
   "metadata": {},
   "outputs": [],
   "source": [
    "data_a['NOC_Counts'] = data_a['NOC'].apply(orden)"
   ]
  },
  {
   "cell_type": "code",
   "execution_count": null,
   "id": "08717fc4",
   "metadata": {},
   "outputs": [],
   "source": [
    "data_a.head()"
   ]
  },
  {
   "cell_type": "code",
   "execution_count": 10,
   "id": "2614d540",
   "metadata": {},
   "outputs": [],
   "source": [
    "def limpiar(x):\n",
    "    list=['United States of America',\n",
    " \"People's Republic of China\",\n",
    " 'Japan',\n",
    " 'Great Britain',\n",
    " 'ROC',\n",
    " 'Australia',\n",
    " 'Netherlands',\n",
    " 'France',\n",
    " 'Germany',\n",
    " 'Italy',\n",
    " 'Canada',\n",
    " 'Brazil',\n",
    " 'New Zealand',\n",
    " 'Cuba',\n",
    " 'Hungary',\n",
    " 'Republic of Korea',\n",
    " 'Poland',\n",
    " 'Czech Republic',\n",
    " 'Kenya',\n",
    " 'Norway',\n",
    " 'Jamaica',\n",
    " 'Spain',\n",
    " 'Sweden',\n",
    " 'Switzerland',\n",
    " 'Denmark',\n",
    " 'Croatia',\n",
    " 'Islamic Republic of Iran',\n",
    " 'Serbia',\n",
    " 'Belgium',\n",
    " 'Bulgaria',\n",
    " 'Slovenia',\n",
    " 'Uzbekistan',\n",
    " 'Georgia',\n",
    " 'Chinese Taipei',\n",
    " 'Turkey',\n",
    " 'Greece',\n",
    " 'Uganda',\n",
    " 'Ecuador',\n",
    " 'Israel',\n",
    " 'Ireland',\n",
    " 'Qatar',\n",
    " 'Bahamas',\n",
    " 'Kosovo',\n",
    " 'Ukraine',\n",
    " 'Belarus',\n",
    " 'Venezuela',\n",
    " 'Romania',\n",
    " 'India',\n",
    " 'Hong Kong, China',\n",
    " 'Slovakia',\n",
    " 'Philippines',\n",
    " 'South Africa',\n",
    " 'Austria',\n",
    " 'Egypt',\n",
    " 'Indonesia',\n",
    " 'Portugal',\n",
    " 'Ethiopia',\n",
    " 'Tunisia',\n",
    " 'Fiji',\n",
    " 'Latvia',\n",
    " 'Estonia',\n",
    " 'Thailand',\n",
    " 'Morocco',\n",
    " 'Puerto Rico',\n",
    " 'Bermuda',\n",
    " 'Colombia',\n",
    " 'Azerbaijan',\n",
    " 'Dominican Republic',\n",
    " 'Armenia',\n",
    " 'Kyrgyzstan',\n",
    " 'Mongolia',\n",
    " 'San Marino',\n",
    " 'Argentina',\n",
    " 'Malaysia',\n",
    " 'Nigeria',\n",
    " 'Jordan',\n",
    " 'Bahrain',\n",
    " 'Saudi Arabia',\n",
    " 'Lithuania',\n",
    " 'North Macedonia',\n",
    " 'Namibia',\n",
    " 'Turkmenistan',\n",
    " 'Kazakhstan',\n",
    " 'Mexico',\n",
    " 'Finland',\n",
    " 'Republic of Moldova',\n",
    " 'Grenada',\n",
    " 'Ghana',\n",
    " 'Burkina Faso',\n",
    " \"Côte d'Ivoire\",\n",
    " 'Botswana',\n",
    " 'Kuwait',\n",
    " 'Syrian Arab Republic']\n",
    "    for i in list:\n",
    "        if x != i:\n",
    "            return 'Others'\n",
    "        else:\n",
    "            return x"
   ]
  },
  {
   "cell_type": "code",
   "execution_count": 11,
   "id": "4c7fee86",
   "metadata": {},
   "outputs": [],
   "source": [
    "data_a[\"NOC_new\"] = data_a.NOC.apply(limpiar)"
   ]
  },
  {
   "cell_type": "code",
   "execution_count": 13,
   "id": "d5b229e0",
   "metadata": {},
   "outputs": [
    {
     "data": {
      "text/plain": [
       "Others                      10470\n",
       "United States of America      615\n",
       "Name: NOC_new, dtype: int64"
      ]
     },
     "execution_count": 13,
     "metadata": {},
     "output_type": "execute_result"
    }
   ],
   "source": [
    "data_a.NOC_new.value_counts()"
   ]
  },
  {
   "cell_type": "code",
   "execution_count": null,
   "id": "c5ddce9c",
   "metadata": {},
   "outputs": [],
   "source": []
  }
 ],
 "metadata": {
  "kernelspec": {
   "display_name": "ironhack",
   "language": "python",
   "name": "ironhack"
  },
  "language_info": {
   "codemirror_mode": {
    "name": "ipython",
    "version": 3
   },
   "file_extension": ".py",
   "mimetype": "text/x-python",
   "name": "python",
   "nbconvert_exporter": "python",
   "pygments_lexer": "ipython3",
   "version": "3.8.10"
  }
 },
 "nbformat": 4,
 "nbformat_minor": 5
}
