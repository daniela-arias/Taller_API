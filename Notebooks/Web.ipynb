{
 "cells": [
  {
   "cell_type": "code",
   "execution_count": 1,
   "id": "45989fe8",
   "metadata": {},
   "outputs": [],
   "source": [
    "import requests\n",
    "from bs4 import BeautifulSoup"
   ]
  },
  {
   "cell_type": "code",
   "execution_count": 2,
   "id": "e0e61d29",
   "metadata": {},
   "outputs": [],
   "source": [
    "import pandas as pd"
   ]
  },
  {
   "cell_type": "code",
   "execution_count": 3,
   "id": "859769ad",
   "metadata": {},
   "outputs": [],
   "source": [
    "url = \"https://olympics.com/en/olympic-games/tokyo-2020/medals\""
   ]
  },
  {
   "cell_type": "code",
   "execution_count": 4,
   "id": "7cc4e32a",
   "metadata": {},
   "outputs": [],
   "source": [
    "html = requests.get(url)"
   ]
  },
  {
   "cell_type": "code",
   "execution_count": 5,
   "id": "7176c3d8",
   "metadata": {},
   "outputs": [
    {
     "data": {
      "text/plain": [
       "<Response [200]>"
      ]
     },
     "execution_count": 5,
     "metadata": {},
     "output_type": "execute_result"
    }
   ],
   "source": [
    "html"
   ]
  },
  {
   "cell_type": "code",
   "execution_count": 15,
   "id": "67ddf097",
   "metadata": {},
   "outputs": [],
   "source": [
    "soup = BeautifulSoup(html.content, \"html.parser\")"
   ]
  },
  {
   "cell_type": "code",
   "execution_count": 55,
   "id": "bd8494e7",
   "metadata": {},
   "outputs": [],
   "source": [
    "tabla = soup.find_all(\"div\", {\"class\": \"Tablestyles__CommonGrid-xjyvs9-1 Tablestyles__Content-xjyvs9-3 kSOeZM dzUKLb\"})"
   ]
  },
  {
   "cell_type": "code",
   "execution_count": 58,
   "id": "73d653b4",
   "metadata": {},
   "outputs": [],
   "source": [
    "#tabla "
   ]
  },
  {
   "cell_type": "code",
   "execution_count": 69,
   "id": "b723030d",
   "metadata": {},
   "outputs": [],
   "source": [
    "paises = soup.find_all(\"span\",{\"class\":\"styles__CountryName-sc-fehzzg-6 kFXANP\"})"
   ]
  },
  {
   "cell_type": "code",
   "execution_count": 70,
   "id": "24e4a434",
   "metadata": {},
   "outputs": [
    {
     "data": {
      "text/plain": [
       "[<span class=\"styles__CountryName-sc-fehzzg-6 kFXANP\" data-cy=\"country-name\">United States of America</span>,\n",
       " <span class=\"styles__CountryName-sc-fehzzg-6 kFXANP\" data-cy=\"country-name\">People's Republic of China</span>,\n",
       " <span class=\"styles__CountryName-sc-fehzzg-6 kFXANP\" data-cy=\"country-name\">Japan</span>,\n",
       " <span class=\"styles__CountryName-sc-fehzzg-6 kFXANP\" data-cy=\"country-name\">Great Britain</span>,\n",
       " <span class=\"styles__CountryName-sc-fehzzg-6 kFXANP\" data-cy=\"country-name\">ROC</span>,\n",
       " <span class=\"styles__CountryName-sc-fehzzg-6 kFXANP\" data-cy=\"country-name\">Australia</span>,\n",
       " <span class=\"styles__CountryName-sc-fehzzg-6 kFXANP\" data-cy=\"country-name\">Netherlands</span>,\n",
       " <span class=\"styles__CountryName-sc-fehzzg-6 kFXANP\" data-cy=\"country-name\">France</span>,\n",
       " <span class=\"styles__CountryName-sc-fehzzg-6 kFXANP\" data-cy=\"country-name\">Germany</span>,\n",
       " <span class=\"styles__CountryName-sc-fehzzg-6 kFXANP\" data-cy=\"country-name\">Italy</span>,\n",
       " <span class=\"styles__CountryName-sc-fehzzg-6 kFXANP\" data-cy=\"country-name\">Canada</span>,\n",
       " <span class=\"styles__CountryName-sc-fehzzg-6 kFXANP\" data-cy=\"country-name\">Brazil</span>,\n",
       " <span class=\"styles__CountryName-sc-fehzzg-6 kFXANP\" data-cy=\"country-name\">New Zealand</span>,\n",
       " <span class=\"styles__CountryName-sc-fehzzg-6 kFXANP\" data-cy=\"country-name\">Cuba</span>,\n",
       " <span class=\"styles__CountryName-sc-fehzzg-6 kFXANP\" data-cy=\"country-name\">Hungary</span>,\n",
       " <span class=\"styles__CountryName-sc-fehzzg-6 kFXANP\" data-cy=\"country-name\">Republic of Korea</span>,\n",
       " <span class=\"styles__CountryName-sc-fehzzg-6 kFXANP\" data-cy=\"country-name\">Poland</span>,\n",
       " <span class=\"styles__CountryName-sc-fehzzg-6 kFXANP\" data-cy=\"country-name\">Czech Republic</span>,\n",
       " <span class=\"styles__CountryName-sc-fehzzg-6 kFXANP\" data-cy=\"country-name\">Kenya</span>,\n",
       " <span class=\"styles__CountryName-sc-fehzzg-6 kFXANP\" data-cy=\"country-name\">Norway</span>,\n",
       " <span class=\"styles__CountryName-sc-fehzzg-6 kFXANP\" data-cy=\"country-name\">Jamaica</span>,\n",
       " <span class=\"styles__CountryName-sc-fehzzg-6 kFXANP\" data-cy=\"country-name\">Spain</span>,\n",
       " <span class=\"styles__CountryName-sc-fehzzg-6 kFXANP\" data-cy=\"country-name\">Sweden</span>,\n",
       " <span class=\"styles__CountryName-sc-fehzzg-6 kFXANP\" data-cy=\"country-name\">Switzerland</span>,\n",
       " <span class=\"styles__CountryName-sc-fehzzg-6 kFXANP\" data-cy=\"country-name\">Denmark</span>,\n",
       " <span class=\"styles__CountryName-sc-fehzzg-6 kFXANP\" data-cy=\"country-name\">Croatia</span>,\n",
       " <span class=\"styles__CountryName-sc-fehzzg-6 kFXANP\" data-cy=\"country-name\">Islamic Republic of Iran</span>,\n",
       " <span class=\"styles__CountryName-sc-fehzzg-6 kFXANP\" data-cy=\"country-name\">Serbia</span>,\n",
       " <span class=\"styles__CountryName-sc-fehzzg-6 kFXANP\" data-cy=\"country-name\">Belgium</span>,\n",
       " <span class=\"styles__CountryName-sc-fehzzg-6 kFXANP\" data-cy=\"country-name\">Bulgaria</span>,\n",
       " <span class=\"styles__CountryName-sc-fehzzg-6 kFXANP\" data-cy=\"country-name\">Slovenia</span>,\n",
       " <span class=\"styles__CountryName-sc-fehzzg-6 kFXANP\" data-cy=\"country-name\">Uzbekistan</span>,\n",
       " <span class=\"styles__CountryName-sc-fehzzg-6 kFXANP\" data-cy=\"country-name\">Georgia</span>,\n",
       " <span class=\"styles__CountryName-sc-fehzzg-6 kFXANP\" data-cy=\"country-name\">Chinese Taipei</span>,\n",
       " <span class=\"styles__CountryName-sc-fehzzg-6 kFXANP\" data-cy=\"country-name\">Turkey</span>,\n",
       " <span class=\"styles__CountryName-sc-fehzzg-6 kFXANP\" data-cy=\"country-name\">Greece</span>,\n",
       " <span class=\"styles__CountryName-sc-fehzzg-6 kFXANP\" data-cy=\"country-name\">Uganda</span>,\n",
       " <span class=\"styles__CountryName-sc-fehzzg-6 kFXANP\" data-cy=\"country-name\">Ecuador</span>,\n",
       " <span class=\"styles__CountryName-sc-fehzzg-6 kFXANP\" data-cy=\"country-name\">Israel</span>,\n",
       " <span class=\"styles__CountryName-sc-fehzzg-6 kFXANP\" data-cy=\"country-name\">Ireland</span>,\n",
       " <span class=\"styles__CountryName-sc-fehzzg-6 kFXANP\" data-cy=\"country-name\">Qatar</span>,\n",
       " <span class=\"styles__CountryName-sc-fehzzg-6 kFXANP\" data-cy=\"country-name\">Bahamas</span>,\n",
       " <span class=\"styles__CountryName-sc-fehzzg-6 kFXANP\" data-cy=\"country-name\">Kosovo</span>,\n",
       " <span class=\"styles__CountryName-sc-fehzzg-6 kFXANP\" data-cy=\"country-name\">Ukraine</span>,\n",
       " <span class=\"styles__CountryName-sc-fehzzg-6 kFXANP\" data-cy=\"country-name\">Belarus</span>,\n",
       " <span class=\"styles__CountryName-sc-fehzzg-6 kFXANP\" data-cy=\"country-name\">Venezuela</span>,\n",
       " <span class=\"styles__CountryName-sc-fehzzg-6 kFXANP\" data-cy=\"country-name\">Romania</span>,\n",
       " <span class=\"styles__CountryName-sc-fehzzg-6 kFXANP\" data-cy=\"country-name\">India</span>,\n",
       " <span class=\"styles__CountryName-sc-fehzzg-6 kFXANP\" data-cy=\"country-name\">Hong Kong, China</span>,\n",
       " <span class=\"styles__CountryName-sc-fehzzg-6 kFXANP\" data-cy=\"country-name\">Slovakia</span>,\n",
       " <span class=\"styles__CountryName-sc-fehzzg-6 kFXANP\" data-cy=\"country-name\">Philippines</span>,\n",
       " <span class=\"styles__CountryName-sc-fehzzg-6 kFXANP\" data-cy=\"country-name\">South Africa</span>,\n",
       " <span class=\"styles__CountryName-sc-fehzzg-6 kFXANP\" data-cy=\"country-name\">Austria</span>,\n",
       " <span class=\"styles__CountryName-sc-fehzzg-6 kFXANP\" data-cy=\"country-name\">Egypt</span>,\n",
       " <span class=\"styles__CountryName-sc-fehzzg-6 kFXANP\" data-cy=\"country-name\">Indonesia</span>,\n",
       " <span class=\"styles__CountryName-sc-fehzzg-6 kFXANP\" data-cy=\"country-name\">Portugal</span>,\n",
       " <span class=\"styles__CountryName-sc-fehzzg-6 kFXANP\" data-cy=\"country-name\">Ethiopia</span>,\n",
       " <span class=\"styles__CountryName-sc-fehzzg-6 kFXANP\" data-cy=\"country-name\">Tunisia</span>,\n",
       " <span class=\"styles__CountryName-sc-fehzzg-6 kFXANP\" data-cy=\"country-name\">Fiji</span>,\n",
       " <span class=\"styles__CountryName-sc-fehzzg-6 kFXANP\" data-cy=\"country-name\">Latvia</span>,\n",
       " <span class=\"styles__CountryName-sc-fehzzg-6 kFXANP\" data-cy=\"country-name\">Estonia</span>,\n",
       " <span class=\"styles__CountryName-sc-fehzzg-6 kFXANP\" data-cy=\"country-name\">Thailand</span>,\n",
       " <span class=\"styles__CountryName-sc-fehzzg-6 kFXANP\" data-cy=\"country-name\">Morocco</span>,\n",
       " <span class=\"styles__CountryName-sc-fehzzg-6 kFXANP\" data-cy=\"country-name\">Puerto Rico</span>,\n",
       " <span class=\"styles__CountryName-sc-fehzzg-6 kFXANP\" data-cy=\"country-name\">Bermuda</span>,\n",
       " <span class=\"styles__CountryName-sc-fehzzg-6 kFXANP\" data-cy=\"country-name\">Colombia</span>,\n",
       " <span class=\"styles__CountryName-sc-fehzzg-6 kFXANP\" data-cy=\"country-name\">Azerbaijan</span>,\n",
       " <span class=\"styles__CountryName-sc-fehzzg-6 kFXANP\" data-cy=\"country-name\">Dominican Republic</span>,\n",
       " <span class=\"styles__CountryName-sc-fehzzg-6 kFXANP\" data-cy=\"country-name\">Armenia</span>,\n",
       " <span class=\"styles__CountryName-sc-fehzzg-6 kFXANP\" data-cy=\"country-name\">Kyrgyzstan</span>,\n",
       " <span class=\"styles__CountryName-sc-fehzzg-6 kFXANP\" data-cy=\"country-name\">Mongolia</span>,\n",
       " <span class=\"styles__CountryName-sc-fehzzg-6 kFXANP\" data-cy=\"country-name\">San Marino</span>,\n",
       " <span class=\"styles__CountryName-sc-fehzzg-6 kFXANP\" data-cy=\"country-name\">Argentina</span>,\n",
       " <span class=\"styles__CountryName-sc-fehzzg-6 kFXANP\" data-cy=\"country-name\">Malaysia</span>,\n",
       " <span class=\"styles__CountryName-sc-fehzzg-6 kFXANP\" data-cy=\"country-name\">Nigeria</span>,\n",
       " <span class=\"styles__CountryName-sc-fehzzg-6 kFXANP\" data-cy=\"country-name\">Jordan</span>,\n",
       " <span class=\"styles__CountryName-sc-fehzzg-6 kFXANP\" data-cy=\"country-name\">Bahrain</span>,\n",
       " <span class=\"styles__CountryName-sc-fehzzg-6 kFXANP\" data-cy=\"country-name\">Saudi Arabia</span>,\n",
       " <span class=\"styles__CountryName-sc-fehzzg-6 kFXANP\" data-cy=\"country-name\">Lithuania</span>,\n",
       " <span class=\"styles__CountryName-sc-fehzzg-6 kFXANP\" data-cy=\"country-name\">North Macedonia</span>,\n",
       " <span class=\"styles__CountryName-sc-fehzzg-6 kFXANP\" data-cy=\"country-name\">Namibia</span>,\n",
       " <span class=\"styles__CountryName-sc-fehzzg-6 kFXANP\" data-cy=\"country-name\">Turkmenistan</span>,\n",
       " <span class=\"styles__CountryName-sc-fehzzg-6 kFXANP\" data-cy=\"country-name\">Kazakhstan</span>,\n",
       " <span class=\"styles__CountryName-sc-fehzzg-6 kFXANP\" data-cy=\"country-name\">Mexico</span>,\n",
       " <span class=\"styles__CountryName-sc-fehzzg-6 kFXANP\" data-cy=\"country-name\">Finland</span>,\n",
       " <span class=\"styles__CountryName-sc-fehzzg-6 kFXANP\" data-cy=\"country-name\">Republic of Moldova</span>,\n",
       " <span class=\"styles__CountryName-sc-fehzzg-6 kFXANP\" data-cy=\"country-name\">Grenada</span>,\n",
       " <span class=\"styles__CountryName-sc-fehzzg-6 kFXANP\" data-cy=\"country-name\">Ghana</span>,\n",
       " <span class=\"styles__CountryName-sc-fehzzg-6 kFXANP\" data-cy=\"country-name\">Burkina Faso</span>,\n",
       " <span class=\"styles__CountryName-sc-fehzzg-6 kFXANP\" data-cy=\"country-name\">Côte d'Ivoire</span>,\n",
       " <span class=\"styles__CountryName-sc-fehzzg-6 kFXANP\" data-cy=\"country-name\">Botswana</span>,\n",
       " <span class=\"styles__CountryName-sc-fehzzg-6 kFXANP\" data-cy=\"country-name\">Kuwait</span>,\n",
       " <span class=\"styles__CountryName-sc-fehzzg-6 kFXANP\" data-cy=\"country-name\">Syrian Arab Republic</span>]"
      ]
     },
     "execution_count": 70,
     "metadata": {},
     "output_type": "execute_result"
    }
   ],
   "source": [
    "paises"
   ]
  },
  {
   "cell_type": "code",
   "execution_count": 71,
   "id": "146ac5a8",
   "metadata": {},
   "outputs": [
    {
     "data": {
      "text/plain": [
       "93"
      ]
     },
     "execution_count": 71,
     "metadata": {},
     "output_type": "execute_result"
    }
   ],
   "source": [
    "len(paises)"
   ]
  },
  {
   "cell_type": "code",
   "execution_count": null,
   "id": "185c3059",
   "metadata": {},
   "outputs": [],
   "source": [
    "Medalstyles__Medal-sc-1tu6huk-1 ghnLFg\n",
    "\n",
    "Medalstyles__Medal-sc-1tu6huk-1 lfKhON\n",
    "\n",
    "Medalstyles__Medal-sc-1tu6huk-1 gOpEiF"
   ]
  },
  {
   "cell_type": "code",
   "execution_count": null,
   "id": "ddfdba70",
   "metadata": {},
   "outputs": [],
   "source": []
  }
 ],
 "metadata": {
  "kernelspec": {
   "display_name": "ironhack",
   "language": "python",
   "name": "ironhack"
  },
  "language_info": {
   "codemirror_mode": {
    "name": "ipython",
    "version": 3
   },
   "file_extension": ".py",
   "mimetype": "text/x-python",
   "name": "python",
   "nbconvert_exporter": "python",
   "pygments_lexer": "ipython3",
   "version": "3.8.10"
  }
 },
 "nbformat": 4,
 "nbformat_minor": 5
}
