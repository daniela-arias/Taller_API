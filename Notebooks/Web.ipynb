{
 "cells": [
  {
   "cell_type": "code",
   "execution_count": 1,
   "id": "45989fe8",
   "metadata": {},
   "outputs": [],
   "source": [
    "import requests\n",
    "from bs4 import BeautifulSoup"
   ]
  },
  {
   "cell_type": "code",
   "execution_count": 2,
   "id": "e0e61d29",
   "metadata": {},
   "outputs": [],
   "source": [
    "import pandas as pd\n",
    "import numpy as np"
   ]
  },
  {
   "cell_type": "code",
   "execution_count": 3,
   "id": "859769ad",
   "metadata": {},
   "outputs": [],
   "source": [
    "url = \"https://olympics.com/en/olympic-games/tokyo-2020/medals\""
   ]
  },
  {
   "cell_type": "code",
   "execution_count": 4,
   "id": "7cc4e32a",
   "metadata": {},
   "outputs": [],
   "source": [
    "html = requests.get(url)"
   ]
  },
  {
   "cell_type": "code",
   "execution_count": 5,
   "id": "7176c3d8",
   "metadata": {},
   "outputs": [
    {
     "data": {
      "text/plain": [
       "<Response [200]>"
      ]
     },
     "execution_count": 5,
     "metadata": {},
     "output_type": "execute_result"
    }
   ],
   "source": [
    "html"
   ]
  },
  {
   "cell_type": "code",
   "execution_count": 6,
   "id": "67ddf097",
   "metadata": {},
   "outputs": [],
   "source": [
    "soup = BeautifulSoup(html.content, \"html.parser\")"
   ]
  },
  {
   "cell_type": "code",
   "execution_count": 7,
   "id": "bd8494e7",
   "metadata": {},
   "outputs": [],
   "source": [
    "tabla = soup.find_all(\"div\", {\"class\": \"Tablestyles__CommonGrid-xjyvs9-1 Tablestyles__Content-xjyvs9-3 kSOeZM dzUKLb\"})"
   ]
  },
  {
   "cell_type": "code",
   "execution_count": 8,
   "id": "73d653b4",
   "metadata": {},
   "outputs": [],
   "source": [
    "#tabla "
   ]
  },
  {
   "cell_type": "code",
   "execution_count": 9,
   "id": "b723030d",
   "metadata": {},
   "outputs": [],
   "source": [
    "paises = soup.find_all(\"span\",{\"class\":\"styles__CountryName-sc-fehzzg-6 kFXANP\"})"
   ]
  },
  {
   "cell_type": "code",
   "execution_count": 10,
   "id": "24e4a434",
   "metadata": {},
   "outputs": [],
   "source": [
    "#paises"
   ]
  },
  {
   "cell_type": "code",
   "execution_count": 11,
   "id": "185c3059",
   "metadata": {},
   "outputs": [
    {
     "data": {
      "text/plain": [
       "\"People's Republic of China\""
      ]
     },
     "execution_count": 11,
     "metadata": {},
     "output_type": "execute_result"
    }
   ],
   "source": [
    "paises[1].getText()"
   ]
  },
  {
   "cell_type": "code",
   "execution_count": 12,
   "id": "ddfdba70",
   "metadata": {},
   "outputs": [],
   "source": [
    "lista_paises = []\n",
    "for p in paises:\n",
    "    lista_paises.append(p.getText())"
   ]
  },
  {
   "cell_type": "code",
   "execution_count": 13,
   "id": "e60eaf3f",
   "metadata": {},
   "outputs": [],
   "source": [
    "#lista_paises"
   ]
  },
  {
   "cell_type": "code",
   "execution_count": 14,
   "id": "c0f6cef6",
   "metadata": {},
   "outputs": [
    {
     "data": {
      "text/plain": [
       "93"
      ]
     },
     "execution_count": 14,
     "metadata": {},
     "output_type": "execute_result"
    }
   ],
   "source": [
    "len(lista_paises)"
   ]
  },
  {
   "cell_type": "code",
   "execution_count": 15,
   "id": "2d0e09bd",
   "metadata": {},
   "outputs": [],
   "source": [
    "medallas_oro = soup.find_all(\"span\",{\"class\":\"Medalstyles__Medal-sc-1tu6huk-1 oyScw\"})"
   ]
  },
  {
   "cell_type": "code",
   "execution_count": 16,
   "id": "b8d8dab9",
   "metadata": {},
   "outputs": [],
   "source": [
    "#medallas_oro"
   ]
  },
  {
   "cell_type": "code",
   "execution_count": 17,
   "id": "6e4eea09",
   "metadata": {},
   "outputs": [],
   "source": [
    "lista_oro = []\n",
    "for p in medallas_oro:\n",
    "    lista_oro.append(p.getText())"
   ]
  },
  {
   "cell_type": "code",
   "execution_count": 18,
   "id": "65d502f6",
   "metadata": {},
   "outputs": [
    {
     "name": "stdout",
     "output_type": "stream",
     "text": [
      "['39', '38', '27', '22', '20', '17', '10', '10', '10', '10', '7', '7', '7', '7', '6', '6', '4', '4', '4', '4', '4', '3', '3', '3', '3', '3', '3', '3', '3', '3', '3', '3', '2', '2', '2', '2', '2', '2', '2', '2', '2', '2', '2', '1', '1', '1', '1', '1', '1', '1', '1', '1', '1', '1', '1', '1', '1', '1', '1', '1', '1', '1', '1', '1', '1']\n"
     ]
    }
   ],
   "source": [
    "print(lista_oro)"
   ]
  },
  {
   "cell_type": "code",
   "execution_count": 19,
   "id": "04e04598",
   "metadata": {},
   "outputs": [
    {
     "data": {
      "text/plain": [
       "65"
      ]
     },
     "execution_count": 19,
     "metadata": {},
     "output_type": "execute_result"
    }
   ],
   "source": [
    "len(lista_oro)"
   ]
  },
  {
   "cell_type": "code",
   "execution_count": 20,
   "id": "8cae8524",
   "metadata": {},
   "outputs": [],
   "source": [
    "medallas_plata = soup.find_all(\"span\",{\"class\":\"Medalstyles__Medal-sc-1tu6huk-1 lfKhON\"})"
   ]
  },
  {
   "cell_type": "code",
   "execution_count": 21,
   "id": "038b0f45",
   "metadata": {},
   "outputs": [],
   "source": [
    "#medallas_plata"
   ]
  },
  {
   "cell_type": "code",
   "execution_count": 22,
   "id": "f03d6242",
   "metadata": {},
   "outputs": [],
   "source": [
    "lista_plata = []\n",
    "for p in medallas_plata:\n",
    "    lista_plata.append(p.getText())"
   ]
  },
  {
   "cell_type": "code",
   "execution_count": 23,
   "id": "90a91065",
   "metadata": {},
   "outputs": [
    {
     "name": "stdout",
     "output_type": "stream",
     "text": [
      "['41', '32', '14', '21', '28', '7', '12', '12', '11', '10', '6', '6', '6', '3', '7', '4', '5', '4', '4', '2', '1', '8', '6', '4', '4', '3', '2', '1', '1', '1', '1', '5', '4', '2', '1', '1', '1', '6', '3', '3', '3', '2', '2', '2', '2', '2', '1', '1', '1', '1', '1', '1', '4', '3', '3', '2', '2', '1', '1', '1', '1', '1', '1', '1', '1', '1', '1', '1', '1']\n"
     ]
    }
   ],
   "source": [
    "print(lista_plata)"
   ]
  },
  {
   "cell_type": "code",
   "execution_count": 24,
   "id": "b1c3d7f1",
   "metadata": {},
   "outputs": [
    {
     "data": {
      "text/plain": [
       "69"
      ]
     },
     "execution_count": 24,
     "metadata": {},
     "output_type": "execute_result"
    }
   ],
   "source": [
    "len(lista_plata)"
   ]
  },
  {
   "cell_type": "code",
   "execution_count": 25,
   "id": "98c0551a",
   "metadata": {},
   "outputs": [],
   "source": [
    "medallas_bronze = soup.find_all(\"span\",{\"class\":\"Medalstyles__Medal-sc-1tu6huk-1 gOpEiF\"})"
   ]
  },
  {
   "cell_type": "code",
   "execution_count": 26,
   "id": "15a2c9ed",
   "metadata": {},
   "outputs": [],
   "source": [
    "#medallas_bronze"
   ]
  },
  {
   "cell_type": "code",
   "execution_count": 34,
   "id": "24eb285f",
   "metadata": {},
   "outputs": [],
   "source": [
    "lista_bronze = []\n",
    "for p in medallas_bronze:\n",
    "    lista_bronze.append(p.getText())"
   ]
  },
  {
   "cell_type": "code",
   "execution_count": 35,
   "id": "469ea6e3",
   "metadata": {},
   "outputs": [
    {
     "name": "stdout",
     "output_type": "stream",
     "text": [
      "['33', '18', '17', '22', '23', '22', '14', '11', '16', '20', '11', '8', '7', '5', '7', '10', '5', '3', '2', '2', '4', '6', '6', '4', '2', '2', '5', '3', '2', '1', '2', '1', '6', '9', '1', '1', '2', '2', '1', '12', '3', '4', '3', '1', '1', '5', '4', '3', '2', '2', '1', '1', '1', '1', '1', '4', '2', '2', '1', '3', '2', '2', '1', '1', '1', '8', '4', '2', '1', '1', '1', '1', '1', '1', '1', '1']\n"
     ]
    }
   ],
   "source": [
    "print(lista_bronze)"
   ]
  },
  {
   "cell_type": "code",
   "execution_count": 36,
   "id": "991a94f0",
   "metadata": {},
   "outputs": [
    {
     "data": {
      "text/plain": [
       "76"
      ]
     },
     "execution_count": 36,
     "metadata": {},
     "output_type": "execute_result"
    }
   ],
   "source": [
    "len(lista_bronze)"
   ]
  },
  {
   "cell_type": "code",
   "execution_count": 37,
   "id": "7f5252b9",
   "metadata": {},
   "outputs": [],
   "source": [
    "diccionario = {\"Paises\": lista_paises, \"Medallas_Oro\":lista_oro, \"Medallas_Plata\":lista_plata, \"Medallas_Bronze\":lista_bronze}"
   ]
  },
  {
   "cell_type": "code",
   "execution_count": 38,
   "id": "9a494c02",
   "metadata": {},
   "outputs": [
    {
     "name": "stdout",
     "output_type": "stream",
     "text": [
      "93\n",
      "65\n",
      "69\n",
      "76\n"
     ]
    }
   ],
   "source": [
    "print(len(lista_paises))\n",
    "print(len(lista_oro))\n",
    "print(len(lista_plata))\n",
    "print(len(lista_bronze))"
   ]
  },
  {
   "cell_type": "code",
   "execution_count": 39,
   "id": "432c10f6",
   "metadata": {},
   "outputs": [],
   "source": [
    "df = pd.DataFrame.from_dict(diccionario,orient='index')\n",
    "df = df.transpose()"
   ]
  },
  {
   "cell_type": "code",
   "execution_count": 40,
   "id": "bbebf7ea",
   "metadata": {},
   "outputs": [
    {
     "data": {
      "text/html": [
       "<div>\n",
       "<style scoped>\n",
       "    .dataframe tbody tr th:only-of-type {\n",
       "        vertical-align: middle;\n",
       "    }\n",
       "\n",
       "    .dataframe tbody tr th {\n",
       "        vertical-align: top;\n",
       "    }\n",
       "\n",
       "    .dataframe thead th {\n",
       "        text-align: right;\n",
       "    }\n",
       "</style>\n",
       "<table border=\"1\" class=\"dataframe\">\n",
       "  <thead>\n",
       "    <tr style=\"text-align: right;\">\n",
       "      <th></th>\n",
       "      <th>Paises</th>\n",
       "      <th>Medallas_Oro</th>\n",
       "      <th>Medallas_Plata</th>\n",
       "      <th>Medallas_Bronze</th>\n",
       "    </tr>\n",
       "  </thead>\n",
       "  <tbody>\n",
       "    <tr>\n",
       "      <th>0</th>\n",
       "      <td>United States of America</td>\n",
       "      <td>39</td>\n",
       "      <td>41</td>\n",
       "      <td>33</td>\n",
       "    </tr>\n",
       "    <tr>\n",
       "      <th>1</th>\n",
       "      <td>People's Republic of China</td>\n",
       "      <td>38</td>\n",
       "      <td>32</td>\n",
       "      <td>18</td>\n",
       "    </tr>\n",
       "    <tr>\n",
       "      <th>2</th>\n",
       "      <td>Japan</td>\n",
       "      <td>27</td>\n",
       "      <td>14</td>\n",
       "      <td>17</td>\n",
       "    </tr>\n",
       "    <tr>\n",
       "      <th>3</th>\n",
       "      <td>Great Britain</td>\n",
       "      <td>22</td>\n",
       "      <td>21</td>\n",
       "      <td>22</td>\n",
       "    </tr>\n",
       "    <tr>\n",
       "      <th>4</th>\n",
       "      <td>ROC</td>\n",
       "      <td>20</td>\n",
       "      <td>28</td>\n",
       "      <td>23</td>\n",
       "    </tr>\n",
       "  </tbody>\n",
       "</table>\n",
       "</div>"
      ],
      "text/plain": [
       "                       Paises Medallas_Oro Medallas_Plata Medallas_Bronze\n",
       "0    United States of America           39             41              33\n",
       "1  People's Republic of China           38             32              18\n",
       "2                       Japan           27             14              17\n",
       "3               Great Britain           22             21              22\n",
       "4                         ROC           20             28              23"
      ]
     },
     "execution_count": 40,
     "metadata": {},
     "output_type": "execute_result"
    }
   ],
   "source": [
    "df.head()"
   ]
  },
  {
   "cell_type": "code",
   "execution_count": 41,
   "id": "5acfd60b",
   "metadata": {},
   "outputs": [
    {
     "data": {
      "text/html": [
       "<div>\n",
       "<style scoped>\n",
       "    .dataframe tbody tr th:only-of-type {\n",
       "        vertical-align: middle;\n",
       "    }\n",
       "\n",
       "    .dataframe tbody tr th {\n",
       "        vertical-align: top;\n",
       "    }\n",
       "\n",
       "    .dataframe thead th {\n",
       "        text-align: right;\n",
       "    }\n",
       "</style>\n",
       "<table border=\"1\" class=\"dataframe\">\n",
       "  <thead>\n",
       "    <tr style=\"text-align: right;\">\n",
       "      <th></th>\n",
       "      <th>Paises</th>\n",
       "      <th>Medallas_Oro</th>\n",
       "      <th>Medallas_Plata</th>\n",
       "      <th>Medallas_Bronze</th>\n",
       "    </tr>\n",
       "  </thead>\n",
       "  <tbody>\n",
       "    <tr>\n",
       "      <th>6</th>\n",
       "      <td>Netherlands</td>\n",
       "      <td>10</td>\n",
       "      <td>12</td>\n",
       "      <td>14</td>\n",
       "    </tr>\n",
       "  </tbody>\n",
       "</table>\n",
       "</div>"
      ],
      "text/plain": [
       "        Paises Medallas_Oro Medallas_Plata Medallas_Bronze\n",
       "6  Netherlands           10             12              14"
      ]
     },
     "execution_count": 41,
     "metadata": {},
     "output_type": "execute_result"
    }
   ],
   "source": [
    "df.sample()"
   ]
  },
  {
   "cell_type": "code",
   "execution_count": null,
   "id": "c92269ad",
   "metadata": {},
   "outputs": [],
   "source": []
  }
 ],
 "metadata": {
  "kernelspec": {
   "display_name": "ironhack",
   "language": "python",
   "name": "ironhack"
  },
  "language_info": {
   "codemirror_mode": {
    "name": "ipython",
    "version": 3
   },
   "file_extension": ".py",
   "mimetype": "text/x-python",
   "name": "python",
   "nbconvert_exporter": "python",
   "pygments_lexer": "ipython3",
   "version": "3.8.10"
  }
 },
 "nbformat": 4,
 "nbformat_minor": 5
}
