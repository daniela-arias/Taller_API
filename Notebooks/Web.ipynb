{
 "cells": [
  {
   "cell_type": "code",
   "execution_count": 1,
   "id": "45989fe8",
   "metadata": {},
   "outputs": [],
   "source": [
    "import requests\n",
    "from bs4 import BeautifulSoup"
   ]
  },
  {
   "cell_type": "code",
   "execution_count": 2,
   "id": "e0e61d29",
   "metadata": {},
   "outputs": [],
   "source": [
    "import pandas as pd"
   ]
  },
  {
   "cell_type": "code",
   "execution_count": 3,
   "id": "859769ad",
   "metadata": {},
   "outputs": [],
   "source": [
    "url = \"https://olympics.com/en/olympic-games/tokyo-2020/medals\""
   ]
  },
  {
   "cell_type": "code",
   "execution_count": 4,
   "id": "7cc4e32a",
   "metadata": {},
   "outputs": [],
   "source": [
    "html = requests.get(url)"
   ]
  },
  {
   "cell_type": "code",
   "execution_count": 5,
   "id": "7176c3d8",
   "metadata": {},
   "outputs": [
    {
     "data": {
      "text/plain": [
       "<Response [200]>"
      ]
     },
     "execution_count": 5,
     "metadata": {},
     "output_type": "execute_result"
    }
   ],
   "source": [
    "html"
   ]
  },
  {
   "cell_type": "code",
   "execution_count": 15,
   "id": "67ddf097",
   "metadata": {},
   "outputs": [],
   "source": [
    "soup = BeautifulSoup(html.content, \"html.parser\")"
   ]
  },
  {
   "cell_type": "code",
   "execution_count": 55,
   "id": "bd8494e7",
   "metadata": {},
   "outputs": [],
   "source": [
    "tabla = soup.find_all(\"div\", {\"class\": \"Tablestyles__CommonGrid-xjyvs9-1 Tablestyles__Content-xjyvs9-3 kSOeZM dzUKLb\"})"
   ]
  },
  {
   "cell_type": "code",
   "execution_count": 58,
   "id": "73d653b4",
   "metadata": {},
   "outputs": [],
   "source": [
    "#tabla "
   ]
  },
  {
   "cell_type": "code",
   "execution_count": 69,
   "id": "b723030d",
   "metadata": {},
   "outputs": [],
   "source": [
    "paises = soup.find_all(\"span\",{\"class\":\"styles__CountryName-sc-fehzzg-6 kFXANP\"})"
   ]
  },
  {
   "cell_type": "code",
   "execution_count": 1,
   "id": "24e4a434",
   "metadata": {},
   "outputs": [],
   "source": [
    "#paises"
   ]
  },
  {
   "cell_type": "code",
   "execution_count": 71,
   "id": "146ac5a8",
   "metadata": {},
   "outputs": [
    {
     "data": {
      "text/plain": [
       "93"
      ]
     },
     "execution_count": 71,
     "metadata": {},
     "output_type": "execute_result"
    }
   ],
   "source": [
    "len(paises)"
   ]
  },
  {
   "cell_type": "code",
   "execution_count": null,
   "id": "185c3059",
   "metadata": {},
   "outputs": [],
   "source": [
    "paises[1].getText()"
   ]
  },
  {
   "cell_type": "code",
   "execution_count": null,
   "id": "ddfdba70",
   "metadata": {},
   "outputs": [],
   "source": [
    "lista_paises = []\n",
    "for p in paises:\n",
    "    lista_paises.append(p.getText())"
   ]
  },
  {
   "cell_type": "code",
   "execution_count": null,
   "id": "5c3691b5",
   "metadata": {},
   "outputs": [],
   "source": [
    "#lista_paises"
   ]
  },
  {
   "cell_type": "code",
   "execution_count": null,
   "id": "b0500c3d",
   "metadata": {},
   "outputs": [],
   "source": [
    "medallas_oro = soup.find_all(\"span\",{\"class\":\"Medalstyles__Medal-sc-1tu6huk-1 ghnLFg\"})"
   ]
  },
  {
   "cell_type": "code",
   "execution_count": null,
   "id": "bd934cec",
   "metadata": {},
   "outputs": [],
   "source": [
    "#medallas_oro"
   ]
  },
  {
   "cell_type": "code",
   "execution_count": null,
   "id": "885bc3e1",
   "metadata": {},
   "outputs": [],
   "source": [
    "lista_oro = []\n",
    "for p in medallas_oro:\n",
    "    lista_oro.append(p.getText())"
   ]
  },
  {
   "cell_type": "code",
   "execution_count": null,
   "id": "407b4071",
   "metadata": {},
   "outputs": [],
   "source": [
    "print(lista_oro)"
   ]
  },
  {
   "cell_type": "code",
   "execution_count": null,
   "id": "4f73449d",
   "metadata": {},
   "outputs": [],
   "source": [
    "medallas_plata = soup.find_all(\"span\",{\"class\":\"Medalstyles__Medal-sc-1tu6huk-1 lfKhON\"})"
   ]
  },
  {
   "cell_type": "code",
   "execution_count": null,
   "id": "c669fa11",
   "metadata": {},
   "outputs": [],
   "source": [
    "#medallas_plata"
   ]
  },
  {
   "cell_type": "code",
   "execution_count": null,
   "id": "c06973c3",
   "metadata": {},
   "outputs": [],
   "source": [
    "lista_plata = []\n",
    "for p in medallas_plata:\n",
    "    lista_plata.append(p.getText())"
   ]
  },
  {
   "cell_type": "code",
   "execution_count": null,
   "id": "ad83547e",
   "metadata": {},
   "outputs": [],
   "source": [
    "print(lista_plata)"
   ]
  },
  {
   "cell_type": "code",
   "execution_count": null,
   "id": "51275d41",
   "metadata": {},
   "outputs": [],
   "source": [
    "medallas_bronze = soup.find_all(\"span\",{\"class\":\"Medalstyles__Medal-sc-1tu6huk-1 gOpEiF\"})"
   ]
  },
  {
   "cell_type": "code",
   "execution_count": null,
   "id": "391338fc",
   "metadata": {},
   "outputs": [],
   "source": [
    "#medallas_bronze"
   ]
  },
  {
   "cell_type": "code",
   "execution_count": null,
   "id": "2fe14f3d",
   "metadata": {},
   "outputs": [],
   "source": [
    "lista_bronze = []\n",
    "for p in medallas_bronze:\n",
    "    lista_bronze.append(p.getText())"
   ]
  },
  {
   "cell_type": "code",
   "execution_count": null,
   "id": "f5547b6c",
   "metadata": {},
   "outputs": [],
   "source": [
    "print(lista_bronze)"
   ]
  },
  {
   "cell_type": "code",
   "execution_count": null,
   "id": "608663f5",
   "metadata": {},
   "outputs": [],
   "source": [
    "diccionario = {\"Paises\": lista_paises, \"Medallas_Oro\":lista_oro, \"Medallas_Plata\":lista_plata, \"Medallas_Bronze\":lista_bronze}"
   ]
  },
  {
   "cell_type": "code",
   "execution_count": null,
   "id": "34a5be99",
   "metadata": {},
   "outputs": [],
   "source": [
    "data = pd.DataFrame(diccionario)"
   ]
  }
 ],
 "metadata": {
  "kernelspec": {
   "display_name": "ironhack",
   "language": "python",
   "name": "ironhack"
  },
  "language_info": {
   "codemirror_mode": {
    "name": "ipython",
    "version": 3
   },
   "file_extension": ".py",
   "mimetype": "text/x-python",
   "name": "python",
   "nbconvert_exporter": "python",
   "pygments_lexer": "ipython3",
   "version": "3.8.10"
  }
 },
 "nbformat": 4,
 "nbformat_minor": 5
}
