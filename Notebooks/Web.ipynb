{
 "cells": [
  {
   "cell_type": "code",
   "execution_count": 44,
   "id": "45989fe8",
   "metadata": {},
   "outputs": [],
   "source": [
    "import requests\n",
    "from bs4 import BeautifulSoup"
   ]
  },
  {
   "cell_type": "code",
   "execution_count": 45,
   "id": "e0e61d29",
   "metadata": {},
   "outputs": [],
   "source": [
    "import pandas as pd\n",
    "import numpy as np"
   ]
  },
  {
   "cell_type": "code",
   "execution_count": 46,
   "id": "859769ad",
   "metadata": {},
   "outputs": [],
   "source": [
    "url = \"https://olympics.com/en/olympic-games/tokyo-2020/medals\""
   ]
  },
  {
   "cell_type": "code",
   "execution_count": 47,
   "id": "7cc4e32a",
   "metadata": {},
   "outputs": [],
   "source": [
    "html = requests.get(url)"
   ]
  },
  {
   "cell_type": "code",
   "execution_count": 48,
   "id": "7176c3d8",
   "metadata": {},
   "outputs": [
    {
     "data": {
      "text/plain": [
       "<Response [200]>"
      ]
     },
     "execution_count": 48,
     "metadata": {},
     "output_type": "execute_result"
    }
   ],
   "source": [
    "html"
   ]
  },
  {
   "cell_type": "code",
   "execution_count": 49,
   "id": "67ddf097",
   "metadata": {},
   "outputs": [],
   "source": [
    "soup = BeautifulSoup(html.content, \"html.parser\")"
   ]
  },
  {
   "cell_type": "code",
   "execution_count": 50,
   "id": "bd8494e7",
   "metadata": {},
   "outputs": [],
   "source": [
    "tabla = soup.find_all(\"div\", {\"class\": \"Tablestyles__CommonGrid-xjyvs9-1 Tablestyles__Content-xjyvs9-3 kSOeZM dzUKLb\"})"
   ]
  },
  {
   "cell_type": "code",
   "execution_count": 51,
   "id": "73d653b4",
   "metadata": {},
   "outputs": [],
   "source": [
    "#tabla "
   ]
  },
  {
   "cell_type": "code",
   "execution_count": 52,
   "id": "b723030d",
   "metadata": {},
   "outputs": [],
   "source": [
    "paises = soup.find_all(\"span\",{\"class\":\"styles__CountryName-sc-fehzzg-6 kFXANP\"})"
   ]
  },
  {
   "cell_type": "code",
   "execution_count": 81,
   "id": "24e4a434",
   "metadata": {},
   "outputs": [],
   "source": [
    "#paises"
   ]
  },
  {
   "cell_type": "code",
   "execution_count": 54,
   "id": "185c3059",
   "metadata": {},
   "outputs": [
    {
     "data": {
      "text/plain": [
       "\"People's Republic of China\""
      ]
     },
     "execution_count": 54,
     "metadata": {},
     "output_type": "execute_result"
    }
   ],
   "source": [
    "paises[1].getText()"
   ]
  },
  {
   "cell_type": "code",
   "execution_count": 55,
   "id": "ddfdba70",
   "metadata": {},
   "outputs": [],
   "source": [
    "lista_paises = []\n",
    "for p in paises:\n",
    "    lista_paises.append(p.getText())"
   ]
  },
  {
   "cell_type": "code",
   "execution_count": 83,
   "id": "f75c5a82",
   "metadata": {},
   "outputs": [],
   "source": [
    "#lista_paises"
   ]
  },
  {
   "cell_type": "code",
   "execution_count": 57,
   "id": "6b585713",
   "metadata": {},
   "outputs": [
    {
     "data": {
      "text/plain": [
       "93"
      ]
     },
     "execution_count": 57,
     "metadata": {},
     "output_type": "execute_result"
    }
   ],
   "source": [
    "len(lista_paises)"
   ]
  },
  {
   "cell_type": "code",
   "execution_count": 58,
   "id": "771b20b4",
   "metadata": {},
   "outputs": [],
   "source": [
    "medallas_oro = soup.find_all(\"span\",{\"class\":\"Medalstyles__Medal-sc-1tu6huk-1 oyScw\"})"
   ]
  },
  {
   "cell_type": "code",
   "execution_count": 59,
   "id": "51bd1929",
   "metadata": {},
   "outputs": [],
   "source": [
    "#medallas_oro"
   ]
  },
  {
   "cell_type": "code",
   "execution_count": 60,
   "id": "618a1269",
   "metadata": {},
   "outputs": [],
   "source": [
    "lista_oro = []\n",
    "for p in medallas_oro:\n",
    "    lista_oro.append(p.getText())"
   ]
  },
  {
   "cell_type": "code",
   "execution_count": 61,
   "id": "e1ca5891",
   "metadata": {},
   "outputs": [
    {
     "name": "stdout",
     "output_type": "stream",
     "text": [
      "['39', '38', '27', '22', '20', '17', '10', '10', '10', '10', '7', '7', '7', '7', '6', '6', '4', '4', '4', '4', '4', '3', '3', '3', '3', '3', '3', '3', '3', '3', '3', '3', '2', '2', '2', '2', '2', '2', '2', '2', '2', '2', '2', '1', '1', '1', '1', '1', '1', '1', '1', '1', '1', '1', '1', '1', '1', '1', '1', '1', '1', '1', '1', '1', '1']\n"
     ]
    }
   ],
   "source": [
    "print(lista_oro)"
   ]
  },
  {
   "cell_type": "code",
   "execution_count": 62,
   "id": "a4c9498e",
   "metadata": {},
   "outputs": [
    {
     "data": {
      "text/plain": [
       "65"
      ]
     },
     "execution_count": 62,
     "metadata": {},
     "output_type": "execute_result"
    }
   ],
   "source": [
    "len(lista_oro)"
   ]
  },
  {
   "cell_type": "code",
   "execution_count": 63,
   "id": "8042b82f",
   "metadata": {},
   "outputs": [],
   "source": [
    "medallas_plata = soup.find_all(\"span\",{\"class\":\"Medalstyles__Medal-sc-1tu6huk-1 lfKhON\"})"
   ]
  },
  {
   "cell_type": "code",
   "execution_count": 64,
   "id": "1654f705",
   "metadata": {},
   "outputs": [],
   "source": [
    "#medallas_plata"
   ]
  },
  {
   "cell_type": "code",
   "execution_count": 65,
   "id": "fe45fbe8",
   "metadata": {},
   "outputs": [],
   "source": [
    "lista_plata = []\n",
    "for p in medallas_plata:\n",
    "    lista_plata.append(p.getText())"
   ]
  },
  {
   "cell_type": "code",
   "execution_count": 66,
   "id": "f3d1dbf3",
   "metadata": {},
   "outputs": [
    {
     "name": "stdout",
     "output_type": "stream",
     "text": [
      "['41', '32', '14', '21', '28', '7', '12', '12', '11', '10', '6', '6', '6', '3', '7', '4', '5', '4', '4', '2', '1', '8', '6', '4', '4', '3', '2', '1', '1', '1', '1', '5', '4', '2', '1', '1', '1', '6', '3', '3', '3', '2', '2', '2', '2', '2', '1', '1', '1', '1', '1', '1', '4', '3', '3', '2', '2', '1', '1', '1', '1', '1', '1', '1', '1', '1', '1', '1', '1']\n"
     ]
    }
   ],
   "source": [
    "print(lista_plata)"
   ]
  },
  {
   "cell_type": "code",
   "execution_count": 67,
   "id": "080a1f29",
   "metadata": {},
   "outputs": [
    {
     "data": {
      "text/plain": [
       "69"
      ]
     },
     "execution_count": 67,
     "metadata": {},
     "output_type": "execute_result"
    }
   ],
   "source": [
    "len(lista_plata)"
   ]
  },
  {
   "cell_type": "code",
   "execution_count": 68,
   "id": "b856c796",
   "metadata": {},
   "outputs": [],
   "source": [
    "medallas_bronze = soup.find_all(\"span\",{\"class\":\"Medalstyles__Medal-sc-1tu6huk-1 gOpEiF\"})"
   ]
  },
  {
   "cell_type": "code",
   "execution_count": 69,
   "id": "6ef7e3c7",
   "metadata": {},
   "outputs": [],
   "source": [
    "#medallas_bronze"
   ]
  },
  {
   "cell_type": "code",
   "execution_count": 70,
   "id": "02de1fa2",
   "metadata": {},
   "outputs": [],
   "source": [
    "lista_bronze = []\n",
    "for p in medallas_bronze:\n",
    "    lista_bronze.append(p.getText())"
   ]
  },
  {
   "cell_type": "code",
   "execution_count": 71,
   "id": "942d58dd",
   "metadata": {},
   "outputs": [
    {
     "name": "stdout",
     "output_type": "stream",
     "text": [
      "['33', '18', '17', '22', '23', '22', '14', '11', '16', '20', '11', '8', '7', '5', '7', '10', '5', '3', '2', '2', '4', '6', '6', '4', '2', '2', '5', '3', '2', '1', '2', '1', '6', '9', '1', '1', '2', '2', '1', '12', '3', '4', '3', '1', '1', '5', '4', '3', '2', '2', '1', '1', '1', '1', '1', '4', '2', '2', '1', '3', '2', '2', '1', '1', '1', '8', '4', '2', '1', '1', '1', '1', '1', '1', '1', '1']\n"
     ]
    }
   ],
   "source": [
    "print(lista_bronze)"
   ]
  },
  {
   "cell_type": "code",
   "execution_count": 72,
   "id": "ba6c7136",
   "metadata": {},
   "outputs": [
    {
     "data": {
      "text/plain": [
       "76"
      ]
     },
     "execution_count": 72,
     "metadata": {},
     "output_type": "execute_result"
    }
   ],
   "source": [
    "len(lista_bronze)"
   ]
  },
  {
   "cell_type": "code",
   "execution_count": 73,
   "id": "4a484407",
   "metadata": {},
   "outputs": [],
   "source": [
    "diccionario = {\"Paises\": lista_paises, \"Medallas_Oro\":lista_oro, \"Medallas_Plata\":lista_plata, \"Medallas_Bronze\":lista_bronze}"
   ]
  },
  {
   "cell_type": "code",
   "execution_count": 74,
   "id": "0931b484",
   "metadata": {},
   "outputs": [
    {
     "name": "stdout",
     "output_type": "stream",
     "text": [
      "93\n",
      "65\n",
      "69\n",
      "76\n"
     ]
    }
   ],
   "source": [
    "print(len(lista_paises))\n",
    "print(len(lista_oro))\n",
    "print(len(lista_plata))\n",
    "print(len(lista_bronze))"
   ]
  },
  {
   "cell_type": "code",
   "execution_count": 75,
   "id": "427a1179",
   "metadata": {},
   "outputs": [],
   "source": [
    "df = pd.DataFrame.from_dict(diccionario,orient='index')\n",
    "df = df.transpose()"
   ]
  },
  {
   "cell_type": "code",
   "execution_count": 76,
   "id": "459a5437",
   "metadata": {},
   "outputs": [
    {
     "data": {
      "text/html": [
       "<div>\n",
       "<style scoped>\n",
       "    .dataframe tbody tr th:only-of-type {\n",
       "        vertical-align: middle;\n",
       "    }\n",
       "\n",
       "    .dataframe tbody tr th {\n",
       "        vertical-align: top;\n",
       "    }\n",
       "\n",
       "    .dataframe thead th {\n",
       "        text-align: right;\n",
       "    }\n",
       "</style>\n",
       "<table border=\"1\" class=\"dataframe\">\n",
       "  <thead>\n",
       "    <tr style=\"text-align: right;\">\n",
       "      <th></th>\n",
       "      <th>Paises</th>\n",
       "      <th>Medallas_Oro</th>\n",
       "      <th>Medallas_Plata</th>\n",
       "      <th>Medallas_Bronze</th>\n",
       "    </tr>\n",
       "  </thead>\n",
       "  <tbody>\n",
       "    <tr>\n",
       "      <th>0</th>\n",
       "      <td>United States of America</td>\n",
       "      <td>39</td>\n",
       "      <td>41</td>\n",
       "      <td>33</td>\n",
       "    </tr>\n",
       "    <tr>\n",
       "      <th>1</th>\n",
       "      <td>People's Republic of China</td>\n",
       "      <td>38</td>\n",
       "      <td>32</td>\n",
       "      <td>18</td>\n",
       "    </tr>\n",
       "    <tr>\n",
       "      <th>2</th>\n",
       "      <td>Japan</td>\n",
       "      <td>27</td>\n",
       "      <td>14</td>\n",
       "      <td>17</td>\n",
       "    </tr>\n",
       "    <tr>\n",
       "      <th>3</th>\n",
       "      <td>Great Britain</td>\n",
       "      <td>22</td>\n",
       "      <td>21</td>\n",
       "      <td>22</td>\n",
       "    </tr>\n",
       "    <tr>\n",
       "      <th>4</th>\n",
       "      <td>ROC</td>\n",
       "      <td>20</td>\n",
       "      <td>28</td>\n",
       "      <td>23</td>\n",
       "    </tr>\n",
       "  </tbody>\n",
       "</table>\n",
       "</div>"
      ],
      "text/plain": [
       "                       Paises Medallas_Oro Medallas_Plata Medallas_Bronze\n",
       "0    United States of America           39             41              33\n",
       "1  People's Republic of China           38             32              18\n",
       "2                       Japan           27             14              17\n",
       "3               Great Britain           22             21              22\n",
       "4                         ROC           20             28              23"
      ]
     },
     "execution_count": 76,
     "metadata": {},
     "output_type": "execute_result"
    }
   ],
   "source": [
    "df.head()"
   ]
  },
  {
   "cell_type": "code",
   "execution_count": 77,
   "id": "8f87016e",
   "metadata": {},
   "outputs": [
    {
     "data": {
      "text/html": [
       "<div>\n",
       "<style scoped>\n",
       "    .dataframe tbody tr th:only-of-type {\n",
       "        vertical-align: middle;\n",
       "    }\n",
       "\n",
       "    .dataframe tbody tr th {\n",
       "        vertical-align: top;\n",
       "    }\n",
       "\n",
       "    .dataframe thead th {\n",
       "        text-align: right;\n",
       "    }\n",
       "</style>\n",
       "<table border=\"1\" class=\"dataframe\">\n",
       "  <thead>\n",
       "    <tr style=\"text-align: right;\">\n",
       "      <th></th>\n",
       "      <th>Paises</th>\n",
       "      <th>Medallas_Oro</th>\n",
       "      <th>Medallas_Plata</th>\n",
       "      <th>Medallas_Bronze</th>\n",
       "    </tr>\n",
       "  </thead>\n",
       "  <tbody>\n",
       "    <tr>\n",
       "      <th>63</th>\n",
       "      <td>Puerto Rico</td>\n",
       "      <td>1</td>\n",
       "      <td>1</td>\n",
       "      <td>1</td>\n",
       "    </tr>\n",
       "  </tbody>\n",
       "</table>\n",
       "</div>"
      ],
      "text/plain": [
       "         Paises Medallas_Oro Medallas_Plata Medallas_Bronze\n",
       "63  Puerto Rico            1              1               1"
      ]
     },
     "execution_count": 77,
     "metadata": {},
     "output_type": "execute_result"
    }
   ],
   "source": [
    "df.sample()"
   ]
  },
  {
   "cell_type": "code",
   "execution_count": 79,
   "id": "8a959ebb",
   "metadata": {},
   "outputs": [],
   "source": [
    "df.to_csv('../Data/scrapping.csv')"
   ]
  }
 ],
 "metadata": {
  "kernelspec": {
   "display_name": "ironhack",
   "language": "python",
   "name": "ironhack"
  },
  "language_info": {
   "codemirror_mode": {
    "name": "ipython",
    "version": 3
   },
   "file_extension": ".py",
   "mimetype": "text/x-python",
   "name": "python",
   "nbconvert_exporter": "python",
   "pygments_lexer": "ipython3",
   "version": "3.8.10"
  }
 },
 "nbformat": 4,
 "nbformat_minor": 5
}
